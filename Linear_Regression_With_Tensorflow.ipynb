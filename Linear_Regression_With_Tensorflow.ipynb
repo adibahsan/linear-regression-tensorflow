{
  "nbformat": 4,
  "nbformat_minor": 0,
  "metadata": {
    "colab": {
      "name": "Linear Regression With Tensorflow",
      "provenance": [],
      "collapsed_sections": [],
      "authorship_tag": "ABX9TyNpyyzaRfpj0ozR00+NaXXF",
      "include_colab_link": true
    },
    "kernelspec": {
      "name": "python3",
      "display_name": "Python 3"
    }
  },
  "cells": [
    {
      "cell_type": "markdown",
      "metadata": {
        "id": "view-in-github",
        "colab_type": "text"
      },
      "source": [
        "<a href=\"https://colab.research.google.com/github/adibahsan/linear-regression-tensorflow/blob/master/Linear_Regression_With_Tensorflow.ipynb\" target=\"_parent\"><img src=\"https://colab.research.google.com/assets/colab-badge.svg\" alt=\"Open In Colab\"/></a>"
      ]
    },
    {
      "cell_type": "code",
      "metadata": {
        "id": "PhmCYd9zyxuH",
        "colab_type": "code",
        "colab": {
          "base_uri": "https://localhost:8080/",
          "height": 50
        },
        "outputId": "2498248a-0af4-4285-ea23-b89cd00b613b"
      },
      "source": [
        "import tensorflow as tf\n",
        "import numpy as np\n",
        "import matplotlib.pyplot as plt\n",
        "%matplotlib inline\n",
        "\n",
        "print('Using TensorFlow version:', tf.__version__)\n",
        "print('Devices available:', tf.config.list_physical_devices())"
      ],
      "execution_count": 16,
      "outputs": [
        {
          "output_type": "stream",
          "text": [
            "Using TensorFlow version: 2.3.0\n",
            "Devices available: [PhysicalDevice(name='/physical_device:CPU:0', device_type='CPU'), PhysicalDevice(name='/physical_device:XLA_CPU:0', device_type='XLA_CPU')]\n"
          ],
          "name": "stdout"
        }
      ]
    },
    {
      "cell_type": "markdown",
      "metadata": {
        "id": "3LNd0Yi21VoC",
        "colab_type": "text"
      },
      "source": [
        "# TensorFlow Constants"
      ]
    },
    {
      "cell_type": "code",
      "metadata": {
        "id": "19c3_XTS0n27",
        "colab_type": "code",
        "colab": {
          "base_uri": "https://localhost:8080/",
          "height": 33
        },
        "outputId": "923c4132-541a-4660-fde9-9387fe160947"
      },
      "source": [
        "tf.constant([1,2,3])"
      ],
      "execution_count": 17,
      "outputs": [
        {
          "output_type": "execute_result",
          "data": {
            "text/plain": [
              "<tf.Tensor: shape=(3,), dtype=int32, numpy=array([1, 2, 3], dtype=int32)>"
            ]
          },
          "metadata": {
            "tags": []
          },
          "execution_count": 17
        }
      ]
    },
    {
      "cell_type": "code",
      "metadata": {
        "id": "b4SZK9361chr",
        "colab_type": "code",
        "colab": {
          "base_uri": "https://localhost:8080/",
          "height": 33
        },
        "outputId": "e82c2dda-342d-417e-b648-2af4e7373757"
      },
      "source": [
        "tf.convert_to_tensor([1,2,3])"
      ],
      "execution_count": 18,
      "outputs": [
        {
          "output_type": "execute_result",
          "data": {
            "text/plain": [
              "<tf.Tensor: shape=(3,), dtype=int32, numpy=array([1, 2, 3], dtype=int32)>"
            ]
          },
          "metadata": {
            "tags": []
          },
          "execution_count": 18
        }
      ]
    },
    {
      "cell_type": "code",
      "metadata": {
        "id": "8yvEmk8R1gud",
        "colab_type": "code",
        "colab": {
          "base_uri": "https://localhost:8080/",
          "height": 33
        },
        "outputId": "7d565476-c21c-4c55-c0eb-7f66354bac4e"
      },
      "source": [
        "## Data Type Changing\n",
        "tf.convert_to_tensor([[1,2,3]], dtype=float)"
      ],
      "execution_count": 19,
      "outputs": [
        {
          "output_type": "execute_result",
          "data": {
            "text/plain": [
              "<tf.Tensor: shape=(1, 3), dtype=float32, numpy=array([[1., 2., 3.]], dtype=float32)>"
            ]
          },
          "metadata": {
            "tags": []
          },
          "execution_count": 19
        }
      ]
    },
    {
      "cell_type": "code",
      "metadata": {
        "id": "qDARYXhh189o",
        "colab_type": "code",
        "colab": {
          "base_uri": "https://localhost:8080/",
          "height": 33
        },
        "outputId": "6246007d-2d4e-449a-9e6f-dc65eff0d9d8"
      },
      "source": [
        "tf.convert_to_tensor([[1,2,3]]).numpy()"
      ],
      "execution_count": 20,
      "outputs": [
        {
          "output_type": "execute_result",
          "data": {
            "text/plain": [
              "array([[1, 2, 3]], dtype=int32)"
            ]
          },
          "metadata": {
            "tags": []
          },
          "execution_count": 20
        }
      ]
    },
    {
      "cell_type": "markdown",
      "metadata": {
        "id": "B_vZWqPT4Jk8",
        "colab_type": "text"
      },
      "source": [
        "# Tensor Variables"
      ]
    },
    {
      "cell_type": "code",
      "metadata": {
        "id": "yGTnFG9N4Mh1",
        "colab_type": "code",
        "colab": {
          "base_uri": "https://localhost:8080/",
          "height": 33
        },
        "outputId": "caf605dc-a9ff-42ca-91c6-9a294a0d7378"
      },
      "source": [
        "tf.Variable([1,2,3])"
      ],
      "execution_count": 21,
      "outputs": [
        {
          "output_type": "execute_result",
          "data": {
            "text/plain": [
              "<tf.Variable 'Variable:0' shape=(3,) dtype=int32, numpy=array([1, 2, 3], dtype=int32)>"
            ]
          },
          "metadata": {
            "tags": []
          },
          "execution_count": 21
        }
      ]
    },
    {
      "cell_type": "code",
      "metadata": {
        "id": "Msn-4OOd4V6p",
        "colab_type": "code",
        "colab": {
          "base_uri": "https://localhost:8080/",
          "height": 50
        },
        "outputId": "53a04ca4-ee8b-4a89-e91a-5c25db36dce7"
      },
      "source": [
        "# Mutable Values \n",
        "v = tf.Variable([1,2,3])\n",
        "print('v is ',v)\n",
        "v.assign([1,2,4])\n",
        "print('v is ',v)\n"
      ],
      "execution_count": 22,
      "outputs": [
        {
          "output_type": "stream",
          "text": [
            "v is  <tf.Variable 'Variable:0' shape=(3,) dtype=int32, numpy=array([1, 2, 3], dtype=int32)>\n",
            "v is  <tf.Variable 'Variable:0' shape=(3,) dtype=int32, numpy=array([1, 2, 4], dtype=int32)>\n"
          ],
          "name": "stdout"
        }
      ]
    },
    {
      "cell_type": "markdown",
      "metadata": {
        "id": "b5y69FlB_Nze",
        "colab_type": "text"
      },
      "source": [
        "Matrix Multiplication"
      ]
    },
    {
      "cell_type": "code",
      "metadata": {
        "id": "SwM4vPxz-oKR",
        "colab_type": "code",
        "colab": {
          "base_uri": "https://localhost:8080/",
          "height": 167
        },
        "outputId": "4eb273c2-5357-44a5-daf6-6590e39cafc9"
      },
      "source": [
        "c = tf.constant(np.random.randn(2,3))\n",
        "v = tf.Variable(np.random.randn(3,1))\n",
        "print (c,v)\n",
        "result = tf.matmul(c,v)\n",
        "print ('Matrix Multiplied',result)"
      ],
      "execution_count": 23,
      "outputs": [
        {
          "output_type": "stream",
          "text": [
            "tf.Tensor(\n",
            "[[ 1.26474418  1.10244698 -0.06149116]\n",
            " [-0.16815002 -0.53558566 -0.41830032]], shape=(2, 3), dtype=float64) <tf.Variable 'Variable:0' shape=(3, 1) dtype=float64, numpy=\n",
            "array([[ 1.35982846],\n",
            "       [-0.40635793],\n",
            "       [ 0.5051124 ]])>\n",
            "Matrix Multiplied tf.Tensor(\n",
            "[[ 1.24078712]\n",
            " [-0.22230438]], shape=(2, 1), dtype=float64)\n"
          ],
          "name": "stdout"
        }
      ]
    },
    {
      "cell_type": "markdown",
      "metadata": {
        "id": "lBECK-Pj73mR",
        "colab_type": "text"
      },
      "source": [
        "# Automatic Differentiation\n",
        "\n",
        "Let's take a simple equation as an example:\n",
        "\\begin{equation}\n",
        "y = x^3 ; \\frac{dy}{dx} = 3x^2\n",
        "\\end{equation}"
      ]
    },
    {
      "cell_type": "code",
      "metadata": {
        "id": "VakLW3z--cwc",
        "colab_type": "code",
        "colab": {
          "base_uri": "https://localhost:8080/",
          "height": 33
        },
        "outputId": "102a46ed-a4fa-4684-b948-422329c3ff5b"
      },
      "source": [
        "x = tf.Variable(3.0)\n",
        "with tf.GradientTape() as tp1:\n",
        "  y = x**3\n",
        "\n",
        "dy_dx = tp1.gradient(y,x)\n",
        "print(\"gradient at x = {} is {}\".format(x.numpy(),dy_dx.numpy()))"
      ],
      "execution_count": 31,
      "outputs": [
        {
          "output_type": "stream",
          "text": [
            "gradient at x = 3.0 is 27.0\n"
          ],
          "name": "stdout"
        }
      ]
    },
    {
      "cell_type": "code",
      "metadata": {
        "id": "dCyoGzPMAQUk",
        "colab_type": "code",
        "colab": {
          "base_uri": "https://localhost:8080/",
          "height": 33
        },
        "outputId": "14af0fb8-9dd7-4b6e-f91b-0fe9878021c4"
      },
      "source": [
        "\n",
        "with tf.GradientTape() as tp1:\n",
        "  with tf.GradientTape() as tp2:\n",
        "    y = x**3\n",
        "  dy_dx = tp2.gradient(y,x)\n",
        "\n",
        "d2y_dx2 = tp1.gradient(dy_dx, x)\n",
        "print(\"2nd gradient at x = {} is {}\".format(x.numpy(),d2y_dx2.numpy()))"
      ],
      "execution_count": 33,
      "outputs": [
        {
          "output_type": "stream",
          "text": [
            "2nd gradient at x = 3.0 is 18.0\n"
          ],
          "name": "stdout"
        }
      ]
    }
  ]
}