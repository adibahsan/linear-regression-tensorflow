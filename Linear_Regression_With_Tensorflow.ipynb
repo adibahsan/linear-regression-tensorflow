{
  "nbformat": 4,
  "nbformat_minor": 0,
  "metadata": {
    "colab": {
      "name": "Linear Regression With Tensorflow",
      "provenance": [],
      "collapsed_sections": [],
      "authorship_tag": "ABX9TyO0DJfjj+J/cr8SAStxB1xj",
      "include_colab_link": true
    },
    "kernelspec": {
      "name": "python3",
      "display_name": "Python 3"
    }
  },
  "cells": [
    {
      "cell_type": "markdown",
      "metadata": {
        "id": "view-in-github",
        "colab_type": "text"
      },
      "source": [
        "<a href=\"https://colab.research.google.com/github/adibahsan/linear-regression-tensorflow/blob/master/Linear_Regression_With_Tensorflow.ipynb\" target=\"_parent\"><img src=\"https://colab.research.google.com/assets/colab-badge.svg\" alt=\"Open In Colab\"/></a>"
      ]
    },
    {
      "cell_type": "code",
      "metadata": {
        "id": "PhmCYd9zyxuH",
        "colab_type": "code",
        "colab": {
          "base_uri": "https://localhost:8080/",
          "height": 50
        },
        "outputId": "1bdda784-234d-41ac-9838-9ee33c60be51"
      },
      "source": [
        "import tensorflow as tf\n",
        "import numpy as np\n",
        "import matplotlib.pyplot as plt\n",
        "%matplotlib inline\n",
        "\n",
        "print('Using TensorFlow version:', tf.__version__)\n",
        "print('Devices available:', tf.config.list_physical_devices())"
      ],
      "execution_count": 1,
      "outputs": [
        {
          "output_type": "stream",
          "text": [
            "Using TensorFlow version: 2.3.0\n",
            "Devices available: [PhysicalDevice(name='/physical_device:CPU:0', device_type='CPU'), PhysicalDevice(name='/physical_device:XLA_CPU:0', device_type='XLA_CPU')]\n"
          ],
          "name": "stdout"
        }
      ]
    },
    {
      "cell_type": "markdown",
      "metadata": {
        "id": "3LNd0Yi21VoC",
        "colab_type": "text"
      },
      "source": [
        "# TensorFlow Constants"
      ]
    },
    {
      "cell_type": "code",
      "metadata": {
        "id": "19c3_XTS0n27",
        "colab_type": "code",
        "colab": {
          "base_uri": "https://localhost:8080/",
          "height": 33
        },
        "outputId": "5e799e9c-48d8-4597-fafd-496954f8ce8e"
      },
      "source": [
        "tf.constant([1,2,3])"
      ],
      "execution_count": 2,
      "outputs": [
        {
          "output_type": "execute_result",
          "data": {
            "text/plain": [
              "<tf.Tensor: shape=(3,), dtype=int32, numpy=array([1, 2, 3], dtype=int32)>"
            ]
          },
          "metadata": {
            "tags": []
          },
          "execution_count": 2
        }
      ]
    },
    {
      "cell_type": "code",
      "metadata": {
        "id": "b4SZK9361chr",
        "colab_type": "code",
        "colab": {
          "base_uri": "https://localhost:8080/",
          "height": 33
        },
        "outputId": "7e358fb1-e07a-433f-cd8c-0bec747c9937"
      },
      "source": [
        "tf.convert_to_tensor([1,2,3])"
      ],
      "execution_count": 3,
      "outputs": [
        {
          "output_type": "execute_result",
          "data": {
            "text/plain": [
              "<tf.Tensor: shape=(3,), dtype=int32, numpy=array([1, 2, 3], dtype=int32)>"
            ]
          },
          "metadata": {
            "tags": []
          },
          "execution_count": 3
        }
      ]
    },
    {
      "cell_type": "code",
      "metadata": {
        "id": "8yvEmk8R1gud",
        "colab_type": "code",
        "colab": {
          "base_uri": "https://localhost:8080/",
          "height": 33
        },
        "outputId": "9d4c6f77-4f78-4a84-890c-8a198a7daa2d"
      },
      "source": [
        "## Data Type Changing\n",
        "tf.convert_to_tensor([[1,2,3]], dtype=float)"
      ],
      "execution_count": 6,
      "outputs": [
        {
          "output_type": "execute_result",
          "data": {
            "text/plain": [
              "<tf.Tensor: shape=(1, 3), dtype=float32, numpy=array([[1., 2., 3.]], dtype=float32)>"
            ]
          },
          "metadata": {
            "tags": []
          },
          "execution_count": 6
        }
      ]
    },
    {
      "cell_type": "code",
      "metadata": {
        "id": "qDARYXhh189o",
        "colab_type": "code",
        "colab": {
          "base_uri": "https://localhost:8080/",
          "height": 33
        },
        "outputId": "da0deeb7-c289-4a8a-8903-9fd342889cd5"
      },
      "source": [
        "tf.convert_to_tensor([[1,2,3]]).numpy()"
      ],
      "execution_count": 8,
      "outputs": [
        {
          "output_type": "execute_result",
          "data": {
            "text/plain": [
              "array([[1, 2, 3]], dtype=int32)"
            ]
          },
          "metadata": {
            "tags": []
          },
          "execution_count": 8
        }
      ]
    },
    {
      "cell_type": "markdown",
      "metadata": {
        "id": "B_vZWqPT4Jk8",
        "colab_type": "text"
      },
      "source": [
        "# Tensor Variables"
      ]
    },
    {
      "cell_type": "code",
      "metadata": {
        "id": "yGTnFG9N4Mh1",
        "colab_type": "code",
        "colab": {
          "base_uri": "https://localhost:8080/",
          "height": 33
        },
        "outputId": "18b96f1a-a598-4904-cd00-398033750206"
      },
      "source": [
        "tf.Variable([1,2,3])"
      ],
      "execution_count": 10,
      "outputs": [
        {
          "output_type": "execute_result",
          "data": {
            "text/plain": [
              "<tf.Variable 'Variable:0' shape=(3,) dtype=int32, numpy=array([1, 2, 3], dtype=int32)>"
            ]
          },
          "metadata": {
            "tags": []
          },
          "execution_count": 10
        }
      ]
    },
    {
      "cell_type": "code",
      "metadata": {
        "id": "Msn-4OOd4V6p",
        "colab_type": "code",
        "colab": {
          "base_uri": "https://localhost:8080/",
          "height": 50
        },
        "outputId": "5cc1d4c6-b056-4e6b-ac09-262981596f58"
      },
      "source": [
        "# Mutable Values \n",
        "v = tf.Variable([1,2,3])\n",
        "print('v is ',v)\n",
        "v.assign([1,2,4])\n",
        "print('v is ',v)\n"
      ],
      "execution_count": 17,
      "outputs": [
        {
          "output_type": "stream",
          "text": [
            "v is  <tf.Variable 'Variable:0' shape=(3,) dtype=int32, numpy=array([1, 2, 3], dtype=int32)>\n",
            "v is  <tf.Variable 'Variable:0' shape=(3,) dtype=int32, numpy=array([1, 2, 4], dtype=int32)>\n"
          ],
          "name": "stdout"
        }
      ]
    },
    {
      "cell_type": "markdown",
      "metadata": {
        "id": "b5y69FlB_Nze",
        "colab_type": "text"
      },
      "source": [
        "Matrix Multiplication"
      ]
    },
    {
      "cell_type": "code",
      "metadata": {
        "id": "SwM4vPxz-oKR",
        "colab_type": "code",
        "colab": {
          "base_uri": "https://localhost:8080/",
          "height": 167
        },
        "outputId": "fa4fc6dd-fac1-440c-a31d-4cb511f2aaeb"
      },
      "source": [
        "c = tf.constant(np.random.randn(2,3))\n",
        "v = tf.Variable(np.random.randn(3,1))\n",
        "print (c,v)\n",
        "result = tf.matmul(c,v)\n",
        "print ('Matrix Multiplied',result)"
      ],
      "execution_count": 20,
      "outputs": [
        {
          "output_type": "stream",
          "text": [
            "tf.Tensor(\n",
            "[[-0.75225929  0.774843    1.82278024]\n",
            " [ 0.3050307  -1.10398819 -0.8841346 ]], shape=(2, 3), dtype=float64) <tf.Variable 'Variable:0' shape=(3, 1) dtype=float64, numpy=\n",
            "array([[-0.78881812],\n",
            "       [ 0.00982779],\n",
            "       [-1.54821613]])>\n",
            "Matrix Multiplied tf.Tensor(\n",
            "[[-2.22104702]\n",
            " [ 1.11736794]], shape=(2, 1), dtype=float64)\n"
          ],
          "name": "stdout"
        }
      ]
    }
  ]
}