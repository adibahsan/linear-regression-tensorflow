{
  "nbformat": 4,
  "nbformat_minor": 0,
  "metadata": {
    "colab": {
      "name": "Linear Regression With Tensorflow",
      "provenance": [],
      "collapsed_sections": [],
      "authorship_tag": "ABX9TyP+YI4L7Fp9DSURXLrPJ1BF",
      "include_colab_link": true
    },
    "kernelspec": {
      "name": "python3",
      "display_name": "Python 3"
    }
  },
  "cells": [
    {
      "cell_type": "markdown",
      "metadata": {
        "id": "view-in-github",
        "colab_type": "text"
      },
      "source": [
        "<a href=\"https://colab.research.google.com/github/adibahsan/linear-regression-tensorflow/blob/master/Linear_Regression_With_Tensorflow.ipynb\" target=\"_parent\"><img src=\"https://colab.research.google.com/assets/colab-badge.svg\" alt=\"Open In Colab\"/></a>"
      ]
    },
    {
      "cell_type": "code",
      "metadata": {
        "id": "PhmCYd9zyxuH",
        "colab_type": "code",
        "colab": {
          "base_uri": "https://localhost:8080/",
          "height": 50
        },
        "outputId": "0141b354-9271-47cc-e34f-3edf114bcc91"
      },
      "source": [
        "import tensorflow as tf\n",
        "import numpy as np\n",
        "import matplotlib.pyplot as plt\n",
        "%matplotlib inline\n",
        "\n",
        "print('Using TensorFlow version:', tf.__version__)\n",
        "print('Devices available:', tf.config.list_physical_devices())"
      ],
      "execution_count": 40,
      "outputs": [
        {
          "output_type": "stream",
          "text": [
            "Using TensorFlow version: 2.3.0\n",
            "Devices available: [PhysicalDevice(name='/physical_device:CPU:0', device_type='CPU'), PhysicalDevice(name='/physical_device:XLA_CPU:0', device_type='XLA_CPU')]\n"
          ],
          "name": "stdout"
        }
      ]
    },
    {
      "cell_type": "markdown",
      "metadata": {
        "id": "3LNd0Yi21VoC",
        "colab_type": "text"
      },
      "source": [
        "# TensorFlow Constants"
      ]
    },
    {
      "cell_type": "code",
      "metadata": {
        "id": "19c3_XTS0n27",
        "colab_type": "code",
        "colab": {
          "base_uri": "https://localhost:8080/",
          "height": 33
        },
        "outputId": "f35fc7d8-aef9-4443-f4b9-f71880b44394"
      },
      "source": [
        "tf.constant([1,2,3])"
      ],
      "execution_count": 41,
      "outputs": [
        {
          "output_type": "execute_result",
          "data": {
            "text/plain": [
              "<tf.Tensor: shape=(3,), dtype=int32, numpy=array([1, 2, 3], dtype=int32)>"
            ]
          },
          "metadata": {
            "tags": []
          },
          "execution_count": 41
        }
      ]
    },
    {
      "cell_type": "code",
      "metadata": {
        "id": "b4SZK9361chr",
        "colab_type": "code",
        "colab": {
          "base_uri": "https://localhost:8080/",
          "height": 33
        },
        "outputId": "2fe22387-52e9-40c0-e8c5-94b0eb889fc0"
      },
      "source": [
        "tf.convert_to_tensor([1,2,3])"
      ],
      "execution_count": 42,
      "outputs": [
        {
          "output_type": "execute_result",
          "data": {
            "text/plain": [
              "<tf.Tensor: shape=(3,), dtype=int32, numpy=array([1, 2, 3], dtype=int32)>"
            ]
          },
          "metadata": {
            "tags": []
          },
          "execution_count": 42
        }
      ]
    },
    {
      "cell_type": "code",
      "metadata": {
        "id": "8yvEmk8R1gud",
        "colab_type": "code",
        "colab": {
          "base_uri": "https://localhost:8080/",
          "height": 33
        },
        "outputId": "8d628dbf-50bd-488d-fcd9-7f7a9adcc5bf"
      },
      "source": [
        "## Data Type Changing\n",
        "tf.convert_to_tensor([[1,2,3]], dtype=float)"
      ],
      "execution_count": 43,
      "outputs": [
        {
          "output_type": "execute_result",
          "data": {
            "text/plain": [
              "<tf.Tensor: shape=(1, 3), dtype=float32, numpy=array([[1., 2., 3.]], dtype=float32)>"
            ]
          },
          "metadata": {
            "tags": []
          },
          "execution_count": 43
        }
      ]
    },
    {
      "cell_type": "code",
      "metadata": {
        "id": "qDARYXhh189o",
        "colab_type": "code",
        "colab": {
          "base_uri": "https://localhost:8080/",
          "height": 33
        },
        "outputId": "357c10fe-793c-435c-855f-ca3a8cb35b59"
      },
      "source": [
        "tf.convert_to_tensor([[1,2,3]]).numpy()"
      ],
      "execution_count": 44,
      "outputs": [
        {
          "output_type": "execute_result",
          "data": {
            "text/plain": [
              "array([[1, 2, 3]], dtype=int32)"
            ]
          },
          "metadata": {
            "tags": []
          },
          "execution_count": 44
        }
      ]
    },
    {
      "cell_type": "markdown",
      "metadata": {
        "id": "B_vZWqPT4Jk8",
        "colab_type": "text"
      },
      "source": [
        "# Tensor Variables"
      ]
    },
    {
      "cell_type": "code",
      "metadata": {
        "id": "yGTnFG9N4Mh1",
        "colab_type": "code",
        "colab": {
          "base_uri": "https://localhost:8080/",
          "height": 33
        },
        "outputId": "b3a53c5b-784a-467d-9e92-33b663066a4f"
      },
      "source": [
        "tf.Variable([1,2,3])"
      ],
      "execution_count": 45,
      "outputs": [
        {
          "output_type": "execute_result",
          "data": {
            "text/plain": [
              "<tf.Variable 'Variable:0' shape=(3,) dtype=int32, numpy=array([1, 2, 3], dtype=int32)>"
            ]
          },
          "metadata": {
            "tags": []
          },
          "execution_count": 45
        }
      ]
    },
    {
      "cell_type": "code",
      "metadata": {
        "id": "Msn-4OOd4V6p",
        "colab_type": "code",
        "colab": {
          "base_uri": "https://localhost:8080/",
          "height": 50
        },
        "outputId": "11d3ee3c-3f0d-4225-c623-7b1c671cfe69"
      },
      "source": [
        "# Mutable Values \n",
        "v = tf.Variable([1,2,3])\n",
        "print('v is ',v)\n",
        "v.assign([1,2,4])\n",
        "print('v is ',v)\n"
      ],
      "execution_count": 46,
      "outputs": [
        {
          "output_type": "stream",
          "text": [
            "v is  <tf.Variable 'Variable:0' shape=(3,) dtype=int32, numpy=array([1, 2, 3], dtype=int32)>\n",
            "v is  <tf.Variable 'Variable:0' shape=(3,) dtype=int32, numpy=array([1, 2, 4], dtype=int32)>\n"
          ],
          "name": "stdout"
        }
      ]
    },
    {
      "cell_type": "markdown",
      "metadata": {
        "id": "b5y69FlB_Nze",
        "colab_type": "text"
      },
      "source": [
        "Matrix Multiplication"
      ]
    },
    {
      "cell_type": "code",
      "metadata": {
        "id": "SwM4vPxz-oKR",
        "colab_type": "code",
        "colab": {
          "base_uri": "https://localhost:8080/",
          "height": 167
        },
        "outputId": "10d7f2c9-ab26-4f99-a775-5a67e177d8c9"
      },
      "source": [
        "c = tf.constant(np.random.randn(2,3))\n",
        "v = tf.Variable(np.random.randn(3,1))\n",
        "print (c,v)\n",
        "result = tf.matmul(c,v)\n",
        "print ('Matrix Multiplied',result)"
      ],
      "execution_count": 47,
      "outputs": [
        {
          "output_type": "stream",
          "text": [
            "tf.Tensor(\n",
            "[[-0.00179379 -0.50131546 -1.24673897]\n",
            " [-0.85228137  1.04722896  0.79606358]], shape=(2, 3), dtype=float64) <tf.Variable 'Variable:0' shape=(3, 1) dtype=float64, numpy=\n",
            "array([[-0.08939416],\n",
            "       [ 0.22280847],\n",
            "       [ 1.19746153]])>\n",
            "Matrix Multiplied tf.Tensor(\n",
            "[[-1.60445893]\n",
            " [ 1.26277597]], shape=(2, 1), dtype=float64)\n"
          ],
          "name": "stdout"
        }
      ]
    },
    {
      "cell_type": "markdown",
      "metadata": {
        "id": "lBECK-Pj73mR",
        "colab_type": "text"
      },
      "source": [
        "#Automatic Differentiation\n",
        "\n",
        "Let's take a simple equation as an example:\n",
        "\\begin{equation}\n",
        "y = x^3 ; \\frac{dy}{dx} = 3x^2\n",
        "\\end{equation}"
      ]
    },
    {
      "cell_type": "code",
      "metadata": {
        "id": "VakLW3z--cwc",
        "colab_type": "code",
        "colab": {
          "base_uri": "https://localhost:8080/",
          "height": 33
        },
        "outputId": "17e939e7-cbf9-4277-bc59-3497336ccaac"
      },
      "source": [
        "x = tf.Variable(3.0)\n",
        "with tf.GradientTape() as tp1:\n",
        "  y = x**3\n",
        "\n",
        "dy_dx = tp1.gradient(y,x)\n",
        "print(\"gradient at x = {} is {}\".format(x.numpy(),dy_dx.numpy()))"
      ],
      "execution_count": 48,
      "outputs": [
        {
          "output_type": "stream",
          "text": [
            "gradient at x = 3.0 is 27.0\n"
          ],
          "name": "stdout"
        }
      ]
    },
    {
      "cell_type": "code",
      "metadata": {
        "id": "dCyoGzPMAQUk",
        "colab_type": "code",
        "colab": {
          "base_uri": "https://localhost:8080/",
          "height": 33
        },
        "outputId": "378048cd-5c17-41a4-fb2c-7e951f65621d"
      },
      "source": [
        "\n",
        "with tf.GradientTape() as tp1:\n",
        "  with tf.GradientTape() as tp2:\n",
        "    y = x**3\n",
        "  dy_dx = tp2.gradient(y,x)\n",
        "\n",
        "d2y_dx2 = tp1.gradient(dy_dx, x)\n",
        "print(\"2nd gradient at x = {} is {}\".format(x.numpy(),d2y_dx2.numpy()))"
      ],
      "execution_count": 49,
      "outputs": [
        {
          "output_type": "stream",
          "text": [
            "2nd gradient at x = 3.0 is 18.0\n"
          ],
          "name": "stdout"
        }
      ]
    },
    {
      "cell_type": "markdown",
      "metadata": {
        "id": "hUhyColEKO5V",
        "colab_type": "text"
      },
      "source": [
        "# Contants Operation"
      ]
    },
    {
      "cell_type": "code",
      "metadata": {
        "id": "U9SKjGfcK51c",
        "colab_type": "code",
        "colab": {
          "base_uri": "https://localhost:8080/",
          "height": 33
        },
        "outputId": "71952f58-d1a0-493d-ddfc-a05b393788e8"
      },
      "source": [
        "x = tf.constant(3.0)\n",
        "with tf.GradientTape() as tp1:\n",
        "  # tp1.watch(x)\n",
        "  y = x**3\n",
        "\n",
        "dy_dx = tp1.gradient(y,x)\n",
        "print(\"gradient at x is {}\".format(dy_dx))"
      ],
      "execution_count": 50,
      "outputs": [
        {
          "output_type": "stream",
          "text": [
            "gradient at x is None\n"
          ],
          "name": "stdout"
        }
      ]
    },
    {
      "cell_type": "code",
      "metadata": {
        "id": "w9PShMLmLTT6",
        "colab_type": "code",
        "colab": {
          "base_uri": "https://localhost:8080/",
          "height": 33
        },
        "outputId": "e3703add-580c-473f-c8c5-f5f988285237"
      },
      "source": [
        "x = tf.constant(3.0)\n",
        "with tf.GradientTape() as tp1:\n",
        "  tp1.watch(x)\n",
        "  y = x**3\n",
        "\n",
        "dy_dx = tp1.gradient(y,x)\n",
        "print(\"gradient at x = {} is {}\".format(x.numpy(),dy_dx.numpy()))"
      ],
      "execution_count": 51,
      "outputs": [
        {
          "output_type": "stream",
          "text": [
            "gradient at x = 3.0 is 27.0\n"
          ],
          "name": "stdout"
        }
      ]
    }
  ]
}